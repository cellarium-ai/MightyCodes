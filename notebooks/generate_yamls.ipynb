{
 "cells": [
  {
   "cell_type": "markdown",
   "metadata": {},
   "source": [
    "## Generate YAML input files to batch experiments"
   ]
  },
  {
   "cell_type": "code",
   "execution_count": 2,
   "metadata": {},
   "outputs": [],
   "source": [
    "import os\n",
    "from ruamel_yaml import YAML\n",
    "\n",
    "yaml = YAML()\n",
    "yaml.indent(mapping=2, sequence=4, offset=2)"
   ]
  },
  {
   "cell_type": "code",
   "execution_count": 3,
   "metadata": {},
   "outputs": [],
   "source": [
    "base_yaml_file = '../yaml/sa_bac_template_params.yaml'"
   ]
  },
  {
   "cell_type": "code",
   "execution_count": null,
   "metadata": {},
   "outputs": [],
   "source": [
    "quality_factor: 5\n",
    "experiment_prefix: 'small'\n",
    "channel_model: 'channel_bac_merfish'\n",
    "min_hamming_weight: 1\n",
    "max_hamming_weight: 7\n",
    "code_length: 8\n",
    "n_types: 80\n",
    "source_nonuniformity: 300.\n",
    "eval_split_size: 512\n",
    "metric_type: 'fdr', 'tpr'\n",
    "checkpoint_frequency: 1000\n",
    "output_root: ."
   ]
  }
 ],
 "metadata": {
  "kernelspec": {
   "display_name": "Python 3",
   "language": "python",
   "name": "python3"
  },
  "language_info": {
   "codemirror_mode": {
    "name": "ipython",
    "version": 3
   },
   "file_extension": ".py",
   "mimetype": "text/x-python",
   "name": "python",
   "nbconvert_exporter": "python",
   "pygments_lexer": "ipython3",
   "version": "3.7.6"
  }
 },
 "nbformat": 4,
 "nbformat_minor": 4
}
