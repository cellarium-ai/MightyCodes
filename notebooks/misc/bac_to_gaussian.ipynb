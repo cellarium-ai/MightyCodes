{
 "cells": [
  {
   "cell_type": "markdown",
   "metadata": {},
   "source": [
    "## Estimating effective BAC parameters from a Gaussian channel"
   ]
  },
  {
   "cell_type": "code",
   "execution_count": null,
   "metadata": {},
   "outputs": [],
   "source": [
    "import numpy as np\n",
    "import torch\n",
    "from typing import List, Tuple, Optional, Set\n",
    "\n",
    "device = torch.device(\"cuda:0\" if torch.cuda.is_available() else \"cpu\")\n",
    "dtype = torch.float32"
   ]
  },
  {
   "cell_type": "code",
   "execution_count": null,
   "metadata": {},
   "outputs": [],
   "source": [
    "from mighty_codes.torch_utils import \\\n",
    "    to_torch, \\\n",
    "    to_np\n",
    "\n",
    "from mighty_codes.channels import \\\n",
    "    BinaryAsymmetricChannelModel, \\\n",
    "    BinaryChannelSpecification, \\\n",
    "    GaussianChannelModel\n",
    "\n",
    "from scipy import optimize as opt"
   ]
  },
  {
   "cell_type": "markdown",
   "metadata": {},
   "source": [
    "## Solution by sampling"
   ]
  },
  {
   "cell_type": "code",
   "execution_count": null,
   "metadata": {},
   "outputs": [],
   "source": [
    "def get_loss(x, p_01, p_10, n_samples_per_symbol = 1_000_000):\n",
    "    \n",
    "    loc_1 = x[0]\n",
    "    scale_1 = x[1]\n",
    "\n",
    "    model = GaussianChannelModel(\n",
    "        n_symbols=2,\n",
    "        n_readout=1,\n",
    "        loc_sr=to_torch(np.asarray([[0.], [loc_1]]), device, dtype),\n",
    "        scale_sr=to_torch(np.asarray([[1.], [scale_1]]), device, dtype),\n",
    "        device=device,\n",
    "        dtype=dtype)\n",
    "    \n",
    "    conf_mat_ss = model.estimate_bac_channel_parameters(n_samples_per_symbol=n_samples_per_symbol)\n",
    "    c_p_01 = conf_mat_ss[0, 1].item()\n",
    "    c_p_10 = conf_mat_ss[1, 0].item()\n",
    "    \n",
    "    err = np.abs(p_01 - c_p_01) + np.abs(p_10 - c_p_10)\n",
    "    print(x)\n",
    "    print(err)\n",
    "    return err"
   ]
  },
  {
   "cell_type": "code",
   "execution_count": null,
   "metadata": {},
   "outputs": [],
   "source": [
    "p_01 = 0.04\n",
    "p_10 = 0.10\n",
    "n_samples_per_symbol = 10_000_000\n",
    "f = lambda x: get_loss(x, p_01, p_10, n_samples_per_symbol)"
   ]
  },
  {
   "cell_type": "code",
   "execution_count": null,
   "metadata": {},
   "outputs": [],
   "source": [
    "x0 = np.asarray([4.3, 2.0])\n",
    "out = opt.fmin(f, x0, ftol=1e-4, xtol=1e-4, disp=True, full_output=True)"
   ]
  },
  {
   "cell_type": "markdown",
   "metadata": {},
   "source": [
    "we find:\n",
    "\n",
    "[4.36271109 2.03893602]"
   ]
  },
  {
   "cell_type": "markdown",
   "metadata": {},
   "source": [
    "## Analytical"
   ]
  },
  {
   "cell_type": "code",
   "execution_count": null,
   "metadata": {},
   "outputs": [],
   "source": [
    "from scipy.stats import norm\n",
    "\n",
    "def get_theta(loc_1, scale_1):\n",
    "    a = 1 - 1 / (scale_1 ** 2)\n",
    "    b = 2 * loc_1 / (scale_1 ** 2)\n",
    "    c = - (loc_1 / scale_1) ** 2 - 2 * np.log(scale_1)\n",
    "    return (- b + np.sqrt(b ** 2 - 4 * a * c)) / (2 * a) \n",
    "\n",
    "\n",
    "def get_error_analytical(x, p_01, p_10):\n",
    "    loc_1 = x[0]\n",
    "    scale_1 = x[1]\n",
    "    theta = get_theta(loc_1, scale_1)\n",
    "    c_p_01 = norm.cdf(-theta, loc=0., scale=1.)\n",
    "    c_p_10 = norm.cdf(theta, loc=loc_1, scale=scale_1)\n",
    "    \n",
    "    err = np.abs(p_01 - c_p_01) + np.abs(p_10 - c_p_10)\n",
    "    return err\n"
   ]
  },
  {
   "cell_type": "code",
   "execution_count": null,
   "metadata": {},
   "outputs": [],
   "source": [
    "p_01 = 0.04\n",
    "p_10 = 0.10\n",
    "f = lambda x: get_error_analytical(x, p_01, p_10)"
   ]
  },
  {
   "cell_type": "code",
   "execution_count": null,
   "metadata": {},
   "outputs": [],
   "source": [
    "x0 = np.asarray([4., 2.])\n",
    "out = opt.fmin(f, x0, ftol=1e-7, xtol=1e-7, disp=True, full_output=True)\n",
    "print(out)"
   ]
  }
 ],
 "metadata": {
  "kernelspec": {
   "display_name": "Python 3",
   "language": "python",
   "name": "python3"
  },
  "language_info": {
   "codemirror_mode": {
    "name": "ipython",
    "version": 3
   },
   "file_extension": ".py",
   "mimetype": "text/x-python",
   "name": "python",
   "nbconvert_exporter": "python",
   "pygments_lexer": "ipython3",
   "version": "3.7.6"
  }
 },
 "nbformat": 4,
 "nbformat_minor": 4
}
