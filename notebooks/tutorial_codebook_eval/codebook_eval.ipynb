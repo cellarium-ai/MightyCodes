{
 "cells": [
  {
   "cell_type": "markdown",
   "id": "expressed-first",
   "metadata": {},
   "source": [
    "## Codebook evaluation tutorial\n",
    "\n",
    "In this notebook, we demonstrate how we can evaluate the performance of a codebook with respect to a specified coding problem, noisy channel model, and optimality metric."
   ]
  },
  {
   "cell_type": "code",
   "execution_count": 1,
   "id": "downtown-delight",
   "metadata": {},
   "outputs": [],
   "source": [
    "import os\n",
    "import logging\n",
    "\n",
    "import matplotlib.pylab as plt\n",
    "import numpy as np\n",
    "import torch\n",
    "\n",
    "from mighty_codes import consts\n",
    "from mighty_codes import metric_utils\n",
    "from mighty_codes import plot_utils\n",
    "from mighty_codes import experiments\n",
    "\n",
    "from mighty_codes.torch_utils import \\\n",
    "    to_np, \\\n",
    "    to_torch, \\\n",
    "    to_one_hot_encoded\n",
    "\n",
    "from mighty_codes.experiments import \\\n",
    "    ChannelModelSpecification\n",
    "\n",
    "log_info = print\n",
    "\n",
    "device = torch.device(\"cuda:0\")\n",
    "dtype = torch.float32"
   ]
  },
  {
   "cell_type": "markdown",
   "id": "surprised-repair",
   "metadata": {},
   "source": [
    "## Configuration"
   ]
  },
  {
   "cell_type": "code",
   "execution_count": 2,
   "id": "welcome-holmes",
   "metadata": {},
   "outputs": [],
   "source": [
    "params = {\n",
    "    'experiment_prefix': 'test',\n",
    "    'channel_model': 'channel_bac_merfish',\n",
    "    'code_length': 14,\n",
    "    'min_symbol_weight_s': [1, 1],\n",
    "    'max_symbol_weight_s': [13, 13],\n",
    "    'n_types': 40,\n",
    "    'source_nonuniformity': 100.,\n",
    "}"
   ]
  },
  {
   "cell_type": "markdown",
   "id": "colored-purchase",
   "metadata": {},
   "source": [
    "## Setup the experiment"
   ]
  },
  {
   "cell_type": "code",
   "execution_count": 4,
   "id": "transsexual-republic",
   "metadata": {},
   "outputs": [
    {
     "name": "stdout",
     "output_type": "stream",
     "text": [
      "Available channel models:\n",
      "\n",
      "channel_bsc_10\n",
      "channel_bac_merfish\n",
      "channel_gaussian_merfish\n",
      "\n",
      "Selected channel model: channel_bac_merfish\n"
     ]
    }
   ],
   "source": [
    "# fetch all channel models\n",
    "all_channel_model_specs_dict = dict()\n",
    "for k, v in experiments.__dict__.items():\n",
    "    if isinstance(v, ChannelModelSpecification):\n",
    "        all_channel_model_specs_dict[k] = v\n",
    "\n",
    "log_info('Available channel models:\\n')\n",
    "for k, v in all_channel_model_specs_dict.items():\n",
    "    log_info(k)\n",
    "log_info()\n",
    "\n",
    "# specify channel model\n",
    "channel_spec = all_channel_model_specs_dict[params['channel_model']]\n",
    "channel_model = channel_spec.channel_model.to(device).type(dtype)\n",
    "log_info(f\"Selected channel model: {params['channel_model']}\")\n",
    "\n",
    "# generate the experiment specifiation\n",
    "experiment_spec = experiments.generate_experiment_spec(\n",
    "    name_prefix=params['experiment_prefix'],\n",
    "    min_symbol_weight_s=params['min_symbol_weight_s'],\n",
    "    max_symbol_weight_s=params['max_symbol_weight_s'],\n",
    "    n_symbols=channel_model.n_symbols,\n",
    "    code_length=params['code_length'],\n",
    "    n_types=params['n_types'],\n",
    "    source_nonuniformity=params['source_nonuniformity'])\n",
    "\n",
    "# generate problem spec\n",
    "problem_spec = experiments.SingleEntityCodingProblemSpecification(\n",
    "    experiment_spec=experiment_spec,\n",
    "    channel_spec=channel_spec)"
   ]
  },
  {
   "cell_type": "markdown",
   "id": "quarterly-customs",
   "metadata": {},
   "source": [
    "## Try out a codebook!\n",
    "\n",
    "Codebooks are always represented as 4-dim one-hot-encoded tensors with shape `(batch_size, n_types, code_length, n_symbols)`\n",
    "\n",
    "- For a single codebook, batch_size = 1\n",
    "- For binary channels, n_symbols = 2\n"
   ]
  },
  {
   "cell_type": "code",
   "execution_count": 5,
   "id": "settled-dealing",
   "metadata": {},
   "outputs": [
    {
     "name": "stdout",
     "output_type": "stream",
     "text": [
      "torch.Size([10, 40, 14, 2])\n",
      "torch.int64\n"
     ]
    }
   ],
   "source": [
    "from mighty_codes.sa_bac.main import BatchedBinaryCodebookManipulator\n",
    "\n",
    "batch_size = 10\n",
    "\n",
    "# we use a helper class ...\n",
    "bbcm = BatchedBinaryCodebookManipulator(\n",
    "    code_length=params['code_length'],\n",
    "    n_types=params['n_types'],\n",
    "    min_hamming_weight=params['min_symbol_weight_s'][1],\n",
    "    max_hamming_weight=params['max_symbol_weight_s'][1],\n",
    "    perturb_max_neighbor_hop_range=1,  # irrelevant here\n",
    "    perturb_max_hamming_distance=1,  # irrelevant here\n",
    "    perturb_max_hamming_weight_change=1,  # irrelevant here,\n",
    "    device=device,\n",
    "    dtype=dtype)\n",
    "\n",
    "# ... to generate random binary codebooks ...\n",
    "random_codebook_btl = bbcm.get_explicit_codebook_btl(\n",
    "        bbcm.generate_random_state_batch(batch_size=batch_size)).to(torch.long)\n",
    "\n",
    "# ... and convert them to one-hot-encoded\n",
    "random_codebook_btls = torch.eye(2, device=device, dtype=torch.long)[random_codebook_btl, :]\n",
    "log_info(random_codebook_btls.shape)\n",
    "log_info(random_codebook_btls.dtype)"
   ]
  },
  {
   "cell_type": "code",
   "execution_count": 6,
   "id": "documentary-ownership",
   "metadata": {},
   "outputs": [
    {
     "data": {
      "image/png": "[encoded data removed]",
      "text/plain": [
       "<Figure size 720x288 with 1 Axes>"
      ]
     },
     "metadata": {},
     "output_type": "display_data"
    }
   ],
   "source": [
    "# let's plot the first codebook in the batch\n",
    "i_batch = 0\n",
    "\n",
    "fig = plt.figure(figsize=(10, 4))\n",
    "ax = plt.gca()\n",
    "\n",
    "codebook_tl_np = random_codebook_btls[i_batch, :, :, 1].cpu().numpy()\n",
    "ax.imshow(codebook_tl_np.T, cmap=plt.cm.Greys_r)\n",
    "ax.set_xlabel('Type Index')\n",
    "ax.set_ylabel('Code')\n",
    "ax.set_xticks([]);\n",
    "ax.set_yticks([]);"
   ]
  },
  {
   "cell_type": "markdown",
   "id": "perceived-panic",
   "metadata": {},
   "source": [
    "Now, let's evaluate these codebooks"
   ]
  },
  {
   "cell_type": "code",
   "execution_count": 7,
   "id": "grateful-smith",
   "metadata": {},
   "outputs": [],
   "source": [
    "# get the decoding confusion matrix\n",
    "decoder_output_dict = channel_model.get_weighted_confusion_matrix(\n",
    "    codebook_btls=random_codebook_btls,\n",
    "    pi_bt=to_torch(experiment_spec.pi_t, device=device, dtype=dtype).expand(\n",
    "        [batch_size, experiment_spec.n_types]),\n",
    "    decoder_type='posterior_sampled',\n",
    "    split_size=1  # how many codebooks to decode in parallel\n",
    ")\n",
    "        \n",
    "# get metrics dict\n",
    "metrics_dict = metric_utils.get_metrics_dict_from_decoder_output_dict(\n",
    "    decoder_output_dict=decoder_output_dict,\n",
    "    metrics_dict_type='basic')"
   ]
  },
  {
   "cell_type": "markdown",
   "id": "great-uncertainty",
   "metadata": {},
   "source": [
    "- `decoder_output_dict` contains a weighted confusion matrix, which is the joint probability `prob(source=t, target=t')`\n",
    "- `metrics_dict` contains various metrics such as TPR, FDR, etc."
   ]
  },
  {
   "cell_type": "code",
   "execution_count": 8,
   "id": "younger-reasoning",
   "metadata": {},
   "outputs": [
    {
     "data": {
      "text/plain": [
       "dict_keys(['decoder_type', 'weighted_confusion_matrix_btt'])"
      ]
     },
     "execution_count": 8,
     "metadata": {},
     "output_type": "execute_result"
    }
   ],
   "source": [
    "decoder_output_dict.keys()"
   ]
  },
  {
   "cell_type": "code",
   "execution_count": 9,
   "id": "empirical-calibration",
   "metadata": {},
   "outputs": [
    {
     "data": {
      "text/plain": [
       "dict_keys(['tpr_bt', 'fdr_bt', 'fpr_bt', 'acc_bt', 'f_1_bt'])"
      ]
     },
     "execution_count": 9,
     "metadata": {},
     "output_type": "execute_result"
    }
   ],
   "source": [
    "metrics_dict.keys()"
   ]
  },
  {
   "cell_type": "markdown",
   "id": "permanent-explorer",
   "metadata": {},
   "source": [
    "Finally, let us visualize the codebook together with the metrics"
   ]
  },
  {
   "cell_type": "code",
   "execution_count": 10,
   "id": "catholic-utilization",
   "metadata": {},
   "outputs": [
    {
     "data": {
      "text/plain": [
       "Text(0, 0.5, 'FDR')"
      ]
     },
     "execution_count": 10,
     "metadata": {},
     "output_type": "execute_result"
    },
    {
     "data": {
      "image/png": "[encoded data removed]",
      "text/plain": [
       "<Figure size 432x288 with 1 Axes>"
      ]
     },
     "metadata": {
      "needs_background": "light"
     },
     "output_type": "display_data"
    }
   ],
   "source": [
    "i_batch = 0\n",
    "fdr_t_np = metrics_dict['fdr_bt'][i_batch, :].cpu().numpy()\n",
    "\n",
    "fig = plt.figure()\n",
    "ax = plt.gca()\n",
    "\n",
    "ax.bar(np.arange(params['n_types']), fdr_t_np)\n",
    "ax.set_ylim((0, 1))\n",
    "ax.set_xlabel('Type Index')\n",
    "ax.set_ylabel('FDR')"
   ]
  },
  {
   "cell_type": "markdown",
   "id": "institutional-grill",
   "metadata": {},
   "source": [
    "In addition to BAC, MightyCodes provides Gaussian channels. For each channel, we have implemented two different decoder types, `posterior_sampled` and `map_reject`. Let us finish this tutorial with swapping the `posterior_sampled` decoder with the `map_reject` decoder:"
   ]
  },
  {
   "cell_type": "code",
   "execution_count": 11,
   "id": "color-enclosure",
   "metadata": {},
   "outputs": [],
   "source": [
    "# get the decoding confusion matrix\n",
    "decoder_output_dict = channel_model.get_weighted_confusion_matrix(\n",
    "    codebook_btls=random_codebook_btls,\n",
    "    pi_bt=to_torch(experiment_spec.pi_t, device=device, dtype=dtype).expand(\n",
    "        [batch_size, experiment_spec.n_types]),\n",
    "    decoder_type='map_reject',\n",
    "    delta_q_max=1e-2,  # \"1 - delta_q_max\" is the largest posterior concentration considered for acceptance\n",
    "    split_size=1,  # how many codebooks to decode in parallel?\n",
    "    n_map_reject_thresholds=50,  # how many different posterior concentration rejection thresholds to evaluate for each codebook?\n",
    ")\n",
    "        \n",
    "# get metrics dict\n",
    "metrics_dict = metric_utils.get_metrics_dict_from_decoder_output_dict(\n",
    "    decoder_output_dict=decoder_output_dict,\n",
    "    metrics_dict_type='auc',\n",
    "    max_rej_ratio=0.5,  # maximum rejection rate to consider in making rejection curves\n",
    "    interpolation_method='lo',  # strategy to interpolate rejection curves\n",
    ")"
   ]
  },
  {
   "cell_type": "code",
   "execution_count": 12,
   "id": "prescription-senator",
   "metadata": {},
   "outputs": [
    {
     "name": "stdout",
     "output_type": "stream",
     "text": [
      "dict_keys(['decoder_type', 'weighted_confusion_matrix_bqtu', 'log_prob_map_thresholds_q', 'num_all_bt', 'num_rej_bqt'])\n"
     ]
    }
   ],
   "source": [
    "print(decoder_output_dict.keys())"
   ]
  },
  {
   "cell_type": "code",
   "execution_count": 13,
   "id": "trained-evans",
   "metadata": {},
   "outputs": [
    {
     "name": "stdout",
     "output_type": "stream",
     "text": [
      "dict_keys(['tpr_bqt', 'fdr_bqt', 'fpr_bqt', 'acc_bqt', 'f_1_bqt', 'rej_bqt', 'normalized_auc_f_1_rej_bt', 'clamped_rej_bqt', 'clamped_f_1_bqt'])\n"
     ]
    }
   ],
   "source": [
    "print(metrics_dict.keys())"
   ]
  },
  {
   "cell_type": "markdown",
   "id": "little-legislature",
   "metadata": {},
   "source": [
    "Let us plot the FDR for several rejection thresholds:"
   ]
  },
  {
   "cell_type": "code",
   "execution_count": 14,
   "id": "liked-broadcasting",
   "metadata": {},
   "outputs": [
    {
     "data": {
      "image/png": "[encoded data removed]",
      "text/plain": [
       "<Figure size 432x360 with 5 Axes>"
      ]
     },
     "metadata": {
      "needs_background": "light"
     },
     "output_type": "display_data"
    }
   ],
   "source": [
    "i_batch = 0\n",
    "i_q_list = [0, 5, 10, 15, 20]\n",
    "\n",
    "n_q = len(i_q_list)\n",
    "fig, axs = plt.subplots(nrows=n_q, figsize=(6, 1 * n_q))\n",
    "for i_q, ax in zip(i_q_list, axs):\n",
    "    fdr_t_np = metrics_dict['fdr_bqt'][i_batch, i_q, :].cpu().numpy()\n",
    "    q_threshold = np.exp(decoder_output_dict['log_prob_map_thresholds_q'][i_q].item())\n",
    "    ax.bar(np.arange(params['n_types']), fdr_t_np, label=f'q={q_threshold:.2f}')\n",
    "    ax.set_ylim((0, 0.5))\n",
    "    ax.set_xticks([])\n",
    "    ax.set_ylabel('FDR')\n",
    "    ax.legend(fontsize=10, loc='upper left')\n",
    "ax.set_xlabel('Type Index')\n",
    "ax.set_ylabel('FDR')\n",
    "fig.tight_layout()"
   ]
  },
  {
   "cell_type": "markdown",
   "id": "impaired-richardson",
   "metadata": {},
   "source": [
    "Note that as the acceptance threshold (posterior concentration $q$) increases, FDR drops, as expected. Let's plot the rejection rate:"
   ]
  },
  {
   "cell_type": "code",
   "execution_count": 15,
   "id": "historical-irrigation",
   "metadata": {},
   "outputs": [
    {
     "data": {
      "image/png": "[encoded data removed]",
      "text/plain": [
       "<Figure size 360x216 with 1 Axes>"
      ]
     },
     "metadata": {
      "needs_background": "light"
     },
     "output_type": "display_data"
    }
   ],
   "source": [
    "fig = plt.figure(figsize=(5, 3))\n",
    "ax = plt.gca()\n",
    "\n",
    "q_threshold_np = decoder_output_dict['log_prob_map_thresholds_q'].exp().cpu().numpy()\n",
    "mean_reject_rate_np = metrics_dict['rej_bqt'][i_batch, :, :].mean(-1).cpu().numpy()\n",
    "\n",
    "ax.plot(q_threshold_np, mean_reject_rate_np)\n",
    "ax.set_ylim((0, 1))\n",
    "ax.set_ylabel('Mean Reject Rate')\n",
    "ax.set_xlabel('Acceptance $q$ threshold')\n",
    "fig.tight_layout()"
   ]
  },
  {
   "cell_type": "code",
   "execution_count": null,
   "id": "light-black",
   "metadata": {},
   "outputs": [],
   "source": []
  }
 ],
 "metadata": {
  "environment": {
   "name": "pytorch-gpu.1-7.m65",
   "type": "gcloud",
   "uri": "gcr.io/deeplearning-platform-release/pytorch-gpu.1-7:m65"
  },
  "kernelspec": {
   "display_name": "Python 3",
   "language": "python",
   "name": "python3"
  },
  "language_info": {
   "codemirror_mode": {
    "name": "ipython",
    "version": 3
   },
   "file_extension": ".py",
   "mimetype": "text/x-python",
   "name": "python",
   "nbconvert_exporter": "python",
   "pygments_lexer": "ipython3",
   "version": "3.7.10"
  }
 },
 "nbformat": 4,
 "nbformat_minor": 5
}
